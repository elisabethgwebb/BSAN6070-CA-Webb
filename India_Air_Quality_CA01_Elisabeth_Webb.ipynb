{
  "nbformat": 4,
  "nbformat_minor": 0,
  "metadata": {
    "kernelspec": {
      "display_name": "Python 3",
      "language": "python",
      "name": "python3"
    },
    "language_info": {
      "codemirror_mode": {
        "name": "ipython",
        "version": 3
      },
      "file_extension": ".py",
      "mimetype": "text/x-python",
      "name": "python",
      "nbconvert_exporter": "python",
      "pygments_lexer": "ipython3",
      "version": "3.5.4"
    },
    "colab": {
      "name": "India Air Quality-CA01-Elisabeth Webb.ipynb",
      "provenance": [],
      "collapsed_sections": []
    }
  },
  "cells": [
    {
      "cell_type": "markdown",
      "metadata": {
        "id": "7wdDDbKHR84x",
        "colab_type": "text"
      },
      "source": [
        "# Your name: Elisabeth Webb\n",
        "## Assignment Name: CA01 - Data Cleaning and Exploration of India Air Quality"
      ]
    },
    {
      "cell_type": "markdown",
      "metadata": {
        "id": "XQ_MW1pZR841",
        "colab_type": "text"
      },
      "source": [
        "# Program Inititialization Section\n",
        "## Enter your import packages here"
      ]
    },
    {
      "cell_type": "code",
      "metadata": {
        "id": "UPfJ5sjNR844",
        "colab_type": "code",
        "colab": {}
      },
      "source": [
        "# import packages \n",
        "import pandas as pd \n",
        "import numpy as np \n",
        "from sklearn.impute import SimpleImputer\n",
        "import matplotlib as mpl\n",
        "import matplotlib.pyplot as plt\n",
        "plt.style.use('seaborn-colorblind')\n"
      ],
      "execution_count": 0,
      "outputs": []
    },
    {
      "cell_type": "markdown",
      "metadata": {
        "id": "V4x4YrDfR85C",
        "colab_type": "text"
      },
      "source": [
        "# Data File Reading Section\n",
        "## Write code to read in data from external sources here"
      ]
    },
    {
      "cell_type": "code",
      "metadata": {
        "id": "sYhfEWtDR85F",
        "colab_type": "code",
        "colab": {
          "base_uri": "https://localhost:8080/",
          "height": 407
        },
        "outputId": "b8d5ffd6-92b6-4fea-ad71-5d9b94107303"
      },
      "source": [
        "#read datasets\n",
        "data=pd.read_csv('data.csv')\n",
        "data.head(10)"
      ],
      "execution_count": 24,
      "outputs": [
        {
          "output_type": "stream",
          "text": [
            "/usr/local/lib/python3.6/dist-packages/IPython/core/interactiveshell.py:2718: DtypeWarning: Columns (0) have mixed types. Specify dtype option on import or set low_memory=False.\n",
            "  interactivity=interactivity, compiler=compiler, result=result)\n"
          ],
          "name": "stderr"
        },
        {
          "output_type": "execute_result",
          "data": {
            "text/html": [
              "<div>\n",
              "<style scoped>\n",
              "    .dataframe tbody tr th:only-of-type {\n",
              "        vertical-align: middle;\n",
              "    }\n",
              "\n",
              "    .dataframe tbody tr th {\n",
              "        vertical-align: top;\n",
              "    }\n",
              "\n",
              "    .dataframe thead th {\n",
              "        text-align: right;\n",
              "    }\n",
              "</style>\n",
              "<table border=\"1\" class=\"dataframe\">\n",
              "  <thead>\n",
              "    <tr style=\"text-align: right;\">\n",
              "      <th></th>\n",
              "      <th>stn_code</th>\n",
              "      <th>sampling_date</th>\n",
              "      <th>state</th>\n",
              "      <th>location</th>\n",
              "      <th>agency</th>\n",
              "      <th>type</th>\n",
              "      <th>so2</th>\n",
              "      <th>no2</th>\n",
              "      <th>rspm</th>\n",
              "      <th>spm</th>\n",
              "      <th>location_monitoring_station</th>\n",
              "      <th>pm2_5</th>\n",
              "      <th>date</th>\n",
              "    </tr>\n",
              "  </thead>\n",
              "  <tbody>\n",
              "    <tr>\n",
              "      <th>0</th>\n",
              "      <td>150</td>\n",
              "      <td>February - M021990</td>\n",
              "      <td>Andhra Pradesh</td>\n",
              "      <td>Hyderabad</td>\n",
              "      <td>NaN</td>\n",
              "      <td>Residential, Rural and other Areas</td>\n",
              "      <td>4.8</td>\n",
              "      <td>17.4</td>\n",
              "      <td>NaN</td>\n",
              "      <td>NaN</td>\n",
              "      <td>NaN</td>\n",
              "      <td>NaN</td>\n",
              "      <td>2/1/1990</td>\n",
              "    </tr>\n",
              "    <tr>\n",
              "      <th>1</th>\n",
              "      <td>151</td>\n",
              "      <td>February - M021990</td>\n",
              "      <td>Andhra Pradesh</td>\n",
              "      <td>Hyderabad</td>\n",
              "      <td>NaN</td>\n",
              "      <td>Industrial Area</td>\n",
              "      <td>3.1</td>\n",
              "      <td>7.0</td>\n",
              "      <td>NaN</td>\n",
              "      <td>NaN</td>\n",
              "      <td>NaN</td>\n",
              "      <td>NaN</td>\n",
              "      <td>2/1/1990</td>\n",
              "    </tr>\n",
              "    <tr>\n",
              "      <th>2</th>\n",
              "      <td>152</td>\n",
              "      <td>February - M021990</td>\n",
              "      <td>Andhra Pradesh</td>\n",
              "      <td>Hyderabad</td>\n",
              "      <td>NaN</td>\n",
              "      <td>Residential, Rural and other Areas</td>\n",
              "      <td>6.2</td>\n",
              "      <td>28.5</td>\n",
              "      <td>NaN</td>\n",
              "      <td>NaN</td>\n",
              "      <td>NaN</td>\n",
              "      <td>NaN</td>\n",
              "      <td>2/1/1990</td>\n",
              "    </tr>\n",
              "    <tr>\n",
              "      <th>3</th>\n",
              "      <td>150</td>\n",
              "      <td>March - M031990</td>\n",
              "      <td>Andhra Pradesh</td>\n",
              "      <td>Hyderabad</td>\n",
              "      <td>NaN</td>\n",
              "      <td>Residential, Rural and other Areas</td>\n",
              "      <td>6.3</td>\n",
              "      <td>14.7</td>\n",
              "      <td>NaN</td>\n",
              "      <td>NaN</td>\n",
              "      <td>NaN</td>\n",
              "      <td>NaN</td>\n",
              "      <td>3/1/1990</td>\n",
              "    </tr>\n",
              "    <tr>\n",
              "      <th>4</th>\n",
              "      <td>151</td>\n",
              "      <td>March - M031990</td>\n",
              "      <td>Andhra Pradesh</td>\n",
              "      <td>Hyderabad</td>\n",
              "      <td>NaN</td>\n",
              "      <td>Industrial Area</td>\n",
              "      <td>4.7</td>\n",
              "      <td>7.5</td>\n",
              "      <td>NaN</td>\n",
              "      <td>NaN</td>\n",
              "      <td>NaN</td>\n",
              "      <td>NaN</td>\n",
              "      <td>3/1/1990</td>\n",
              "    </tr>\n",
              "    <tr>\n",
              "      <th>5</th>\n",
              "      <td>152</td>\n",
              "      <td>March - M031990</td>\n",
              "      <td>Andhra Pradesh</td>\n",
              "      <td>Hyderabad</td>\n",
              "      <td>NaN</td>\n",
              "      <td>Residential, Rural and other Areas</td>\n",
              "      <td>6.4</td>\n",
              "      <td>25.7</td>\n",
              "      <td>NaN</td>\n",
              "      <td>NaN</td>\n",
              "      <td>NaN</td>\n",
              "      <td>NaN</td>\n",
              "      <td>3/1/1990</td>\n",
              "    </tr>\n",
              "    <tr>\n",
              "      <th>6</th>\n",
              "      <td>150</td>\n",
              "      <td>April - M041990</td>\n",
              "      <td>Andhra Pradesh</td>\n",
              "      <td>Hyderabad</td>\n",
              "      <td>NaN</td>\n",
              "      <td>Residential, Rural and other Areas</td>\n",
              "      <td>5.4</td>\n",
              "      <td>17.1</td>\n",
              "      <td>NaN</td>\n",
              "      <td>NaN</td>\n",
              "      <td>NaN</td>\n",
              "      <td>NaN</td>\n",
              "      <td>4/1/1990</td>\n",
              "    </tr>\n",
              "    <tr>\n",
              "      <th>7</th>\n",
              "      <td>151</td>\n",
              "      <td>April - M041990</td>\n",
              "      <td>Andhra Pradesh</td>\n",
              "      <td>Hyderabad</td>\n",
              "      <td>NaN</td>\n",
              "      <td>Industrial Area</td>\n",
              "      <td>4.7</td>\n",
              "      <td>8.7</td>\n",
              "      <td>NaN</td>\n",
              "      <td>NaN</td>\n",
              "      <td>NaN</td>\n",
              "      <td>NaN</td>\n",
              "      <td>4/1/1990</td>\n",
              "    </tr>\n",
              "    <tr>\n",
              "      <th>8</th>\n",
              "      <td>152</td>\n",
              "      <td>April - M041990</td>\n",
              "      <td>Andhra Pradesh</td>\n",
              "      <td>Hyderabad</td>\n",
              "      <td>NaN</td>\n",
              "      <td>Residential, Rural and other Areas</td>\n",
              "      <td>4.2</td>\n",
              "      <td>23.0</td>\n",
              "      <td>NaN</td>\n",
              "      <td>NaN</td>\n",
              "      <td>NaN</td>\n",
              "      <td>NaN</td>\n",
              "      <td>4/1/1990</td>\n",
              "    </tr>\n",
              "    <tr>\n",
              "      <th>9</th>\n",
              "      <td>151</td>\n",
              "      <td>May - M051990</td>\n",
              "      <td>Andhra Pradesh</td>\n",
              "      <td>Hyderabad</td>\n",
              "      <td>NaN</td>\n",
              "      <td>Industrial Area</td>\n",
              "      <td>4.0</td>\n",
              "      <td>8.9</td>\n",
              "      <td>NaN</td>\n",
              "      <td>NaN</td>\n",
              "      <td>NaN</td>\n",
              "      <td>NaN</td>\n",
              "      <td>5/1/1990</td>\n",
              "    </tr>\n",
              "  </tbody>\n",
              "</table>\n",
              "</div>"
            ],
            "text/plain": [
              "  stn_code       sampling_date  ... pm2_5      date\n",
              "0      150  February - M021990  ...   NaN  2/1/1990\n",
              "1      151  February - M021990  ...   NaN  2/1/1990\n",
              "2      152  February - M021990  ...   NaN  2/1/1990\n",
              "3      150     March - M031990  ...   NaN  3/1/1990\n",
              "4      151     March - M031990  ...   NaN  3/1/1990\n",
              "5      152     March - M031990  ...   NaN  3/1/1990\n",
              "6      150     April - M041990  ...   NaN  4/1/1990\n",
              "7      151     April - M041990  ...   NaN  4/1/1990\n",
              "8      152     April - M041990  ...   NaN  4/1/1990\n",
              "9      151       May - M051990  ...   NaN  5/1/1990\n",
              "\n",
              "[10 rows x 13 columns]"
            ]
          },
          "metadata": {
            "tags": []
          },
          "execution_count": 24
        }
      ]
    },
    {
      "cell_type": "markdown",
      "metadata": {
        "id": "3VzZIdZ2R85O",
        "colab_type": "text"
      },
      "source": [
        "# Initial Data Investigation Section\n",
        "\n",
        "## Summarized details\n",
        "### Generate descriptive statistics that summarize the central tendency, dispersion, and shape of a dataset’s distribution, excluding NaN values.\n",
        "#### Steps:\n",
        "#### 1. Statistical Description of data (data.describe)\n",
        "#### 2. Display number of total rows and columns of the dataset (data.shape)\n",
        "#### 3. Display number of non-null values for each column (data.count)\n",
        "#### 4. Display number of null values for each column (sum of data.isnull)\n",
        "#### 5. Display range, column, number of non-null objects of each column, datatype and memory usage (data.info)\n",
        "#### 6. Display Top 10 and Bottom 10 records (head and tail)"
      ]
    },
    {
      "cell_type": "code",
      "metadata": {
        "scrolled": false,
        "id": "T5Cm5E_QR85R",
        "colab_type": "code",
        "colab": {
          "base_uri": "https://localhost:8080/",
          "height": 808
        },
        "outputId": "58d70ff9-90a0-4ca4-8459-828135e510ed"
      },
      "source": [
        "# Your code for this section here ...\n",
        "#descriptive statistics\n",
        "data.describe() #1\n",
        "data.shape #2\n",
        "data.count() #3\n",
        "data.isnull().sum() #4\n",
        "data.info() #5\n",
        "data.head(10) #6\n",
        "data.tail(10) #6\n"
      ],
      "execution_count": 25,
      "outputs": [
        {
          "output_type": "stream",
          "text": [
            "<class 'pandas.core.frame.DataFrame'>\n",
            "RangeIndex: 435742 entries, 0 to 435741\n",
            "Data columns (total 13 columns):\n",
            "stn_code                       291665 non-null object\n",
            "sampling_date                  435739 non-null object\n",
            "state                          435742 non-null object\n",
            "location                       435739 non-null object\n",
            "agency                         286261 non-null object\n",
            "type                           430349 non-null object\n",
            "so2                            401096 non-null float64\n",
            "no2                            419509 non-null float64\n",
            "rspm                           395520 non-null float64\n",
            "spm                            198355 non-null float64\n",
            "location_monitoring_station    408251 non-null object\n",
            "pm2_5                          9314 non-null float64\n",
            "date                           435735 non-null object\n",
            "dtypes: float64(5), object(8)\n",
            "memory usage: 43.2+ MB\n"
          ],
          "name": "stdout"
        },
        {
          "output_type": "execute_result",
          "data": {
            "text/html": [
              "<div>\n",
              "<style scoped>\n",
              "    .dataframe tbody tr th:only-of-type {\n",
              "        vertical-align: middle;\n",
              "    }\n",
              "\n",
              "    .dataframe tbody tr th {\n",
              "        vertical-align: top;\n",
              "    }\n",
              "\n",
              "    .dataframe thead th {\n",
              "        text-align: right;\n",
              "    }\n",
              "</style>\n",
              "<table border=\"1\" class=\"dataframe\">\n",
              "  <thead>\n",
              "    <tr style=\"text-align: right;\">\n",
              "      <th></th>\n",
              "      <th>stn_code</th>\n",
              "      <th>sampling_date</th>\n",
              "      <th>state</th>\n",
              "      <th>location</th>\n",
              "      <th>agency</th>\n",
              "      <th>type</th>\n",
              "      <th>so2</th>\n",
              "      <th>no2</th>\n",
              "      <th>rspm</th>\n",
              "      <th>spm</th>\n",
              "      <th>location_monitoring_station</th>\n",
              "      <th>pm2_5</th>\n",
              "      <th>date</th>\n",
              "    </tr>\n",
              "  </thead>\n",
              "  <tbody>\n",
              "    <tr>\n",
              "      <th>435732</th>\n",
              "      <td>SAMP</td>\n",
              "      <td>9/12/2015</td>\n",
              "      <td>West Bengal</td>\n",
              "      <td>ULUBERIA</td>\n",
              "      <td>West Bengal State Pollution Control Board</td>\n",
              "      <td>RIRUO</td>\n",
              "      <td>22.0</td>\n",
              "      <td>50.0</td>\n",
              "      <td>145.0</td>\n",
              "      <td>NaN</td>\n",
              "      <td>Inside Rampal Industries,ULUBERIA</td>\n",
              "      <td>NaN</td>\n",
              "      <td>12/9/2015</td>\n",
              "    </tr>\n",
              "    <tr>\n",
              "      <th>435733</th>\n",
              "      <td>SAMP</td>\n",
              "      <td>12/12/2015</td>\n",
              "      <td>West Bengal</td>\n",
              "      <td>ULUBERIA</td>\n",
              "      <td>West Bengal State Pollution Control Board</td>\n",
              "      <td>RIRUO</td>\n",
              "      <td>34.0</td>\n",
              "      <td>61.0</td>\n",
              "      <td>161.0</td>\n",
              "      <td>NaN</td>\n",
              "      <td>Inside Rampal Industries,ULUBERIA</td>\n",
              "      <td>NaN</td>\n",
              "      <td>12/12/2015</td>\n",
              "    </tr>\n",
              "    <tr>\n",
              "      <th>435734</th>\n",
              "      <td>SAMP</td>\n",
              "      <td>15-12-15</td>\n",
              "      <td>West Bengal</td>\n",
              "      <td>ULUBERIA</td>\n",
              "      <td>West Bengal State Pollution Control Board</td>\n",
              "      <td>RIRUO</td>\n",
              "      <td>20.0</td>\n",
              "      <td>44.0</td>\n",
              "      <td>148.0</td>\n",
              "      <td>NaN</td>\n",
              "      <td>Inside Rampal Industries,ULUBERIA</td>\n",
              "      <td>NaN</td>\n",
              "      <td>12/15/2015</td>\n",
              "    </tr>\n",
              "    <tr>\n",
              "      <th>435735</th>\n",
              "      <td>SAMP</td>\n",
              "      <td>18-12-15</td>\n",
              "      <td>West Bengal</td>\n",
              "      <td>ULUBERIA</td>\n",
              "      <td>West Bengal State Pollution Control Board</td>\n",
              "      <td>RIRUO</td>\n",
              "      <td>17.0</td>\n",
              "      <td>44.0</td>\n",
              "      <td>131.0</td>\n",
              "      <td>NaN</td>\n",
              "      <td>Inside Rampal Industries,ULUBERIA</td>\n",
              "      <td>NaN</td>\n",
              "      <td>12/18/2015</td>\n",
              "    </tr>\n",
              "    <tr>\n",
              "      <th>435736</th>\n",
              "      <td>SAMP</td>\n",
              "      <td>21-12-15</td>\n",
              "      <td>West Bengal</td>\n",
              "      <td>ULUBERIA</td>\n",
              "      <td>West Bengal State Pollution Control Board</td>\n",
              "      <td>RIRUO</td>\n",
              "      <td>18.0</td>\n",
              "      <td>45.0</td>\n",
              "      <td>140.0</td>\n",
              "      <td>NaN</td>\n",
              "      <td>Inside Rampal Industries,ULUBERIA</td>\n",
              "      <td>NaN</td>\n",
              "      <td>12/21/2015</td>\n",
              "    </tr>\n",
              "    <tr>\n",
              "      <th>435737</th>\n",
              "      <td>SAMP</td>\n",
              "      <td>24-12-15</td>\n",
              "      <td>West Bengal</td>\n",
              "      <td>ULUBERIA</td>\n",
              "      <td>West Bengal State Pollution Control Board</td>\n",
              "      <td>RIRUO</td>\n",
              "      <td>22.0</td>\n",
              "      <td>50.0</td>\n",
              "      <td>143.0</td>\n",
              "      <td>NaN</td>\n",
              "      <td>Inside Rampal Industries,ULUBERIA</td>\n",
              "      <td>NaN</td>\n",
              "      <td>12/24/2015</td>\n",
              "    </tr>\n",
              "    <tr>\n",
              "      <th>435738</th>\n",
              "      <td>SAMP</td>\n",
              "      <td>29-12-15</td>\n",
              "      <td>West Bengal</td>\n",
              "      <td>ULUBERIA</td>\n",
              "      <td>West Bengal State Pollution Control Board</td>\n",
              "      <td>RIRUO</td>\n",
              "      <td>20.0</td>\n",
              "      <td>46.0</td>\n",
              "      <td>171.0</td>\n",
              "      <td>NaN</td>\n",
              "      <td>Inside Rampal Industries,ULUBERIA</td>\n",
              "      <td>NaN</td>\n",
              "      <td>12/29/2015</td>\n",
              "    </tr>\n",
              "    <tr>\n",
              "      <th>435739</th>\n",
              "      <td>NaN</td>\n",
              "      <td>NaN</td>\n",
              "      <td>andaman-and-nicobar-islands</td>\n",
              "      <td>NaN</td>\n",
              "      <td>NaN</td>\n",
              "      <td>NaN</td>\n",
              "      <td>NaN</td>\n",
              "      <td>NaN</td>\n",
              "      <td>NaN</td>\n",
              "      <td>NaN</td>\n",
              "      <td>NaN</td>\n",
              "      <td>NaN</td>\n",
              "      <td>NaN</td>\n",
              "    </tr>\n",
              "    <tr>\n",
              "      <th>435740</th>\n",
              "      <td>NaN</td>\n",
              "      <td>NaN</td>\n",
              "      <td>Lakshadweep</td>\n",
              "      <td>NaN</td>\n",
              "      <td>NaN</td>\n",
              "      <td>NaN</td>\n",
              "      <td>NaN</td>\n",
              "      <td>NaN</td>\n",
              "      <td>NaN</td>\n",
              "      <td>NaN</td>\n",
              "      <td>NaN</td>\n",
              "      <td>NaN</td>\n",
              "      <td>NaN</td>\n",
              "    </tr>\n",
              "    <tr>\n",
              "      <th>435741</th>\n",
              "      <td>NaN</td>\n",
              "      <td>NaN</td>\n",
              "      <td>Tripura</td>\n",
              "      <td>NaN</td>\n",
              "      <td>NaN</td>\n",
              "      <td>NaN</td>\n",
              "      <td>NaN</td>\n",
              "      <td>NaN</td>\n",
              "      <td>NaN</td>\n",
              "      <td>NaN</td>\n",
              "      <td>NaN</td>\n",
              "      <td>NaN</td>\n",
              "      <td>NaN</td>\n",
              "    </tr>\n",
              "  </tbody>\n",
              "</table>\n",
              "</div>"
            ],
            "text/plain": [
              "       stn_code sampling_date  ... pm2_5        date\n",
              "435732     SAMP     9/12/2015  ...   NaN   12/9/2015\n",
              "435733     SAMP    12/12/2015  ...   NaN  12/12/2015\n",
              "435734     SAMP      15-12-15  ...   NaN  12/15/2015\n",
              "435735     SAMP      18-12-15  ...   NaN  12/18/2015\n",
              "435736     SAMP      21-12-15  ...   NaN  12/21/2015\n",
              "435737     SAMP      24-12-15  ...   NaN  12/24/2015\n",
              "435738     SAMP      29-12-15  ...   NaN  12/29/2015\n",
              "435739      NaN           NaN  ...   NaN         NaN\n",
              "435740      NaN           NaN  ...   NaN         NaN\n",
              "435741      NaN           NaN  ...   NaN         NaN\n",
              "\n",
              "[10 rows x 13 columns]"
            ]
          },
          "metadata": {
            "tags": []
          },
          "execution_count": 25
        }
      ]
    },
    {
      "cell_type": "markdown",
      "metadata": {
        "id": "bV4KdtKmR85d",
        "colab_type": "text"
      },
      "source": [
        "## Cleansing the dataset\n",
        "### Dropping of less valued columns:\n",
        "1. stn_code, agency, sampling_date, location_monitoring_agency do not add much value to the dataset in terms of information. Therefore, we can drop those columns.\n",
        "\n",
        "2. Dropping rows where no date is available."
      ]
    },
    {
      "cell_type": "code",
      "metadata": {
        "id": "PDnshFQsR85g",
        "colab_type": "code",
        "colab": {
          "base_uri": "https://localhost:8080/",
          "height": 35
        },
        "outputId": "77843d9d-c90e-47d4-c690-7cce94a91471"
      },
      "source": [
        "# Cleaning up the data\n",
        "\n",
        "#dropping columns that aren't required\n",
        "\n",
        "# ... your code here\n",
        "data=data.drop(columns=['stn_code','agency','sampling_date','location_monitoring_station'], axis=1)\n",
        "\n",
        "# dropping rows where no date is available\n",
        "\n",
        "# ... your code here\n",
        "data.dropna(subset=['date'], how='all', inplace=True)\n",
        "data['date'].isnull().sum()\n"
      ],
      "execution_count": 26,
      "outputs": [
        {
          "output_type": "execute_result",
          "data": {
            "text/plain": [
              "0"
            ]
          },
          "metadata": {
            "tags": []
          },
          "execution_count": 26
        }
      ]
    },
    {
      "cell_type": "code",
      "metadata": {
        "id": "1bipv6_xR85p",
        "colab_type": "code",
        "colab": {
          "base_uri": "https://localhost:8080/",
          "height": 70
        },
        "outputId": "20ff7213-85d0-4c6d-a199-3edab38fb54a"
      },
      "source": [
        "# displaying final columns (data.columns)\n",
        "\n",
        "# ... your code here\n",
        "data.columns"
      ],
      "execution_count": 27,
      "outputs": [
        {
          "output_type": "execute_result",
          "data": {
            "text/plain": [
              "Index(['state', 'location', 'type', 'so2', 'no2', 'rspm', 'spm', 'pm2_5',\n",
              "       'date'],\n",
              "      dtype='object')"
            ]
          },
          "metadata": {
            "tags": []
          },
          "execution_count": 27
        }
      ]
    },
    {
      "cell_type": "markdown",
      "metadata": {
        "id": "hdGTlxSOR85y",
        "colab_type": "text"
      },
      "source": [
        "### Changing the types to uniform format:\n",
        "\n",
        "Notice that the ‘type’ column has values such as ‘Industrial Area’ and ‘Industrial Areas’ — both actually mean the same, so let’s remove such type of stuff and make it uniform. Replace the 'type' values with standard codes as follows:\n",
        "\n",
        "types = {\n",
        "    \"Residential\": \"R\",\n",
        "    \"Residential and others\": \"RO\",\n",
        "    \"Residential, Rural and other Areas\": \"RRO\",\n",
        "    \"Industrial Area\": \"I\",\n",
        "    \"Industrial Areas\": \"I\",\n",
        "    \"Industrial\": \"I\",\n",
        "    \"Sensitive Area\": \"S\",\n",
        "    \"Sensitive Areas\": \"S\",\n",
        "    \"Sensitive\": \"S\",\n",
        "    np.nan: \"RRO\"\n",
        "}\n",
        "\n",
        "data.type = data.type.replace(types)"
      ]
    },
    {
      "cell_type": "code",
      "metadata": {
        "id": "ap3JxmD6R850",
        "colab_type": "code",
        "colab": {}
      },
      "source": [
        "# ... Your code here\n",
        "types = { \"Residential\": \"R\", \"Residential and others\": \"RO\", \"Residential, Rural and other Areas\": \"RRO\", \"Industrial Area\": \"I\", \"Industrial Areas\": \"I\", \"Industrial\": \"I\", \"Sensitive Area\": \"S\", \"Sensitive Areas\": \"S\", \"Sensitive\": \"S\", np.nan: \"RRO\" }\n",
        "data.type=data.type.replace(types)"
      ],
      "execution_count": 0,
      "outputs": []
    },
    {
      "cell_type": "code",
      "metadata": {
        "id": "nELxzPD7R855",
        "colab_type": "code",
        "colab": {
          "base_uri": "https://localhost:8080/",
          "height": 352
        },
        "outputId": "bd36c506-c379-40c3-ecff-80a54099aa4d"
      },
      "source": [
        "# Display top 10 records after codification of 'types'\n",
        "# ... Your code here\n",
        "data.head(10)\n"
      ],
      "execution_count": 30,
      "outputs": [
        {
          "output_type": "execute_result",
          "data": {
            "text/html": [
              "<div>\n",
              "<style scoped>\n",
              "    .dataframe tbody tr th:only-of-type {\n",
              "        vertical-align: middle;\n",
              "    }\n",
              "\n",
              "    .dataframe tbody tr th {\n",
              "        vertical-align: top;\n",
              "    }\n",
              "\n",
              "    .dataframe thead th {\n",
              "        text-align: right;\n",
              "    }\n",
              "</style>\n",
              "<table border=\"1\" class=\"dataframe\">\n",
              "  <thead>\n",
              "    <tr style=\"text-align: right;\">\n",
              "      <th></th>\n",
              "      <th>state</th>\n",
              "      <th>location</th>\n",
              "      <th>type</th>\n",
              "      <th>so2</th>\n",
              "      <th>no2</th>\n",
              "      <th>rspm</th>\n",
              "      <th>spm</th>\n",
              "      <th>pm2_5</th>\n",
              "      <th>date</th>\n",
              "    </tr>\n",
              "  </thead>\n",
              "  <tbody>\n",
              "    <tr>\n",
              "      <th>0</th>\n",
              "      <td>Andhra Pradesh</td>\n",
              "      <td>Hyderabad</td>\n",
              "      <td>RRO</td>\n",
              "      <td>4.8</td>\n",
              "      <td>17.4</td>\n",
              "      <td>NaN</td>\n",
              "      <td>NaN</td>\n",
              "      <td>NaN</td>\n",
              "      <td>2/1/1990</td>\n",
              "    </tr>\n",
              "    <tr>\n",
              "      <th>1</th>\n",
              "      <td>Andhra Pradesh</td>\n",
              "      <td>Hyderabad</td>\n",
              "      <td>I</td>\n",
              "      <td>3.1</td>\n",
              "      <td>7.0</td>\n",
              "      <td>NaN</td>\n",
              "      <td>NaN</td>\n",
              "      <td>NaN</td>\n",
              "      <td>2/1/1990</td>\n",
              "    </tr>\n",
              "    <tr>\n",
              "      <th>2</th>\n",
              "      <td>Andhra Pradesh</td>\n",
              "      <td>Hyderabad</td>\n",
              "      <td>RRO</td>\n",
              "      <td>6.2</td>\n",
              "      <td>28.5</td>\n",
              "      <td>NaN</td>\n",
              "      <td>NaN</td>\n",
              "      <td>NaN</td>\n",
              "      <td>2/1/1990</td>\n",
              "    </tr>\n",
              "    <tr>\n",
              "      <th>3</th>\n",
              "      <td>Andhra Pradesh</td>\n",
              "      <td>Hyderabad</td>\n",
              "      <td>RRO</td>\n",
              "      <td>6.3</td>\n",
              "      <td>14.7</td>\n",
              "      <td>NaN</td>\n",
              "      <td>NaN</td>\n",
              "      <td>NaN</td>\n",
              "      <td>3/1/1990</td>\n",
              "    </tr>\n",
              "    <tr>\n",
              "      <th>4</th>\n",
              "      <td>Andhra Pradesh</td>\n",
              "      <td>Hyderabad</td>\n",
              "      <td>I</td>\n",
              "      <td>4.7</td>\n",
              "      <td>7.5</td>\n",
              "      <td>NaN</td>\n",
              "      <td>NaN</td>\n",
              "      <td>NaN</td>\n",
              "      <td>3/1/1990</td>\n",
              "    </tr>\n",
              "    <tr>\n",
              "      <th>5</th>\n",
              "      <td>Andhra Pradesh</td>\n",
              "      <td>Hyderabad</td>\n",
              "      <td>RRO</td>\n",
              "      <td>6.4</td>\n",
              "      <td>25.7</td>\n",
              "      <td>NaN</td>\n",
              "      <td>NaN</td>\n",
              "      <td>NaN</td>\n",
              "      <td>3/1/1990</td>\n",
              "    </tr>\n",
              "    <tr>\n",
              "      <th>6</th>\n",
              "      <td>Andhra Pradesh</td>\n",
              "      <td>Hyderabad</td>\n",
              "      <td>RRO</td>\n",
              "      <td>5.4</td>\n",
              "      <td>17.1</td>\n",
              "      <td>NaN</td>\n",
              "      <td>NaN</td>\n",
              "      <td>NaN</td>\n",
              "      <td>4/1/1990</td>\n",
              "    </tr>\n",
              "    <tr>\n",
              "      <th>7</th>\n",
              "      <td>Andhra Pradesh</td>\n",
              "      <td>Hyderabad</td>\n",
              "      <td>I</td>\n",
              "      <td>4.7</td>\n",
              "      <td>8.7</td>\n",
              "      <td>NaN</td>\n",
              "      <td>NaN</td>\n",
              "      <td>NaN</td>\n",
              "      <td>4/1/1990</td>\n",
              "    </tr>\n",
              "    <tr>\n",
              "      <th>8</th>\n",
              "      <td>Andhra Pradesh</td>\n",
              "      <td>Hyderabad</td>\n",
              "      <td>RRO</td>\n",
              "      <td>4.2</td>\n",
              "      <td>23.0</td>\n",
              "      <td>NaN</td>\n",
              "      <td>NaN</td>\n",
              "      <td>NaN</td>\n",
              "      <td>4/1/1990</td>\n",
              "    </tr>\n",
              "    <tr>\n",
              "      <th>9</th>\n",
              "      <td>Andhra Pradesh</td>\n",
              "      <td>Hyderabad</td>\n",
              "      <td>I</td>\n",
              "      <td>4.0</td>\n",
              "      <td>8.9</td>\n",
              "      <td>NaN</td>\n",
              "      <td>NaN</td>\n",
              "      <td>NaN</td>\n",
              "      <td>5/1/1990</td>\n",
              "    </tr>\n",
              "  </tbody>\n",
              "</table>\n",
              "</div>"
            ],
            "text/plain": [
              "            state   location type  so2   no2  rspm  spm  pm2_5      date\n",
              "0  Andhra Pradesh  Hyderabad  RRO  4.8  17.4   NaN  NaN    NaN  2/1/1990\n",
              "1  Andhra Pradesh  Hyderabad    I  3.1   7.0   NaN  NaN    NaN  2/1/1990\n",
              "2  Andhra Pradesh  Hyderabad  RRO  6.2  28.5   NaN  NaN    NaN  2/1/1990\n",
              "3  Andhra Pradesh  Hyderabad  RRO  6.3  14.7   NaN  NaN    NaN  3/1/1990\n",
              "4  Andhra Pradesh  Hyderabad    I  4.7   7.5   NaN  NaN    NaN  3/1/1990\n",
              "5  Andhra Pradesh  Hyderabad  RRO  6.4  25.7   NaN  NaN    NaN  3/1/1990\n",
              "6  Andhra Pradesh  Hyderabad  RRO  5.4  17.1   NaN  NaN    NaN  4/1/1990\n",
              "7  Andhra Pradesh  Hyderabad    I  4.7   8.7   NaN  NaN    NaN  4/1/1990\n",
              "8  Andhra Pradesh  Hyderabad  RRO  4.2  23.0   NaN  NaN    NaN  4/1/1990\n",
              "9  Andhra Pradesh  Hyderabad    I  4.0   8.9   NaN  NaN    NaN  5/1/1990"
            ]
          },
          "metadata": {
            "tags": []
          },
          "execution_count": 30
        }
      ]
    },
    {
      "cell_type": "markdown",
      "metadata": {
        "id": "vWg9q-wHR85-",
        "colab_type": "text"
      },
      "source": [
        "### Creating a year column\n",
        "To view the trend over a period of time, we need year values for each row and also when you see in most of the values in date column only has ‘year’ value. So, let’s create a new column holding year values. Convert the column to 'datetime' type and extract the year to populate the new column. Display Top 5 records after the conversion."
      ]
    },
    {
      "cell_type": "code",
      "metadata": {
        "id": "PJKghQ2gR86A",
        "colab_type": "code",
        "colab": {
          "base_uri": "https://localhost:8080/",
          "height": 284
        },
        "outputId": "338b6a7e-0cc4-44b9-f64a-00ca324ca3b4"
      },
      "source": [
        "# ... Your code here\n",
        "import datetime\n",
        "data = pd.DataFrame(data)\n",
        "data['year']=pd.to_datetime(data['date'])\n",
        "data['year'] = pd.DatetimeIndex(data['date']).year\n",
        "data.head(5)\n",
        "data.info()\n"
      ],
      "execution_count": 31,
      "outputs": [
        {
          "output_type": "stream",
          "text": [
            "<class 'pandas.core.frame.DataFrame'>\n",
            "Int64Index: 435735 entries, 0 to 435738\n",
            "Data columns (total 10 columns):\n",
            "state       435735 non-null object\n",
            "location    435735 non-null object\n",
            "type        435735 non-null object\n",
            "so2         401092 non-null float64\n",
            "no2         419505 non-null float64\n",
            "rspm        395516 non-null float64\n",
            "spm         198355 non-null float64\n",
            "pm2_5       9314 non-null float64\n",
            "date        435735 non-null object\n",
            "year        435735 non-null int64\n",
            "dtypes: float64(5), int64(1), object(4)\n",
            "memory usage: 36.6+ MB\n"
          ],
          "name": "stdout"
        }
      ]
    },
    {
      "cell_type": "markdown",
      "metadata": {
        "id": "yGEMW3VJR86G",
        "colab_type": "text"
      },
      "source": [
        "### Handling Missing Values\n",
        "\n",
        "The column such as SO2, NO2, rspm, spm, pm2_5 are the ones which contribute much to our analysis. So, we need to remove null from those columns to avoid inaccuracy in the prediction.\n",
        "We use the Imputer from sklearn.preprocessing to fill the missing values in every column with the mean."
      ]
    },
    {
      "cell_type": "code",
      "metadata": {
        "id": "-kao8UD_R86I",
        "colab_type": "code",
        "colab": {
          "base_uri": "https://localhost:8080/",
          "height": 479
        },
        "outputId": "74a12d49-49e4-4833-d310-2debc3eacb67"
      },
      "source": [
        "# define columns of importance, which shall be used reguarly (COLS = ....)\n",
        "# invoke SimpleImputer to fill missing values using 'mean' as the replacement strategy\n",
        "# Display data.info after the transformation\n",
        "# Display that there are no more missing values in the dataset\n",
        "\n",
        "# ... your code here\n",
        "COLS = ['so2','no2','rspm','spm','pm2_5']\n",
        "imp = SimpleImputer(missing_values=np.nan, strategy='mean')\n",
        "imp.fit(data[COLS])\n",
        "data[COLS]=pd.DataFrame(imp.transform(data[COLS]), index=data.index)\n",
        "data.info() #after the transformation\n",
        "data.isnull().sum() #no more missing values in the dataset \n",
        "\n"
      ],
      "execution_count": 32,
      "outputs": [
        {
          "output_type": "stream",
          "text": [
            "<class 'pandas.core.frame.DataFrame'>\n",
            "Int64Index: 435735 entries, 0 to 435738\n",
            "Data columns (total 10 columns):\n",
            "state       435735 non-null object\n",
            "location    435735 non-null object\n",
            "type        435735 non-null object\n",
            "so2         435735 non-null float64\n",
            "no2         435735 non-null float64\n",
            "rspm        435735 non-null float64\n",
            "spm         435735 non-null float64\n",
            "pm2_5       435735 non-null float64\n",
            "date        435735 non-null object\n",
            "year        435735 non-null int64\n",
            "dtypes: float64(5), int64(1), object(4)\n",
            "memory usage: 36.6+ MB\n"
          ],
          "name": "stdout"
        },
        {
          "output_type": "execute_result",
          "data": {
            "text/plain": [
              "state       0\n",
              "location    0\n",
              "type        0\n",
              "so2         0\n",
              "no2         0\n",
              "rspm        0\n",
              "spm         0\n",
              "pm2_5       0\n",
              "date        0\n",
              "year        0\n",
              "dtype: int64"
            ]
          },
          "metadata": {
            "tags": []
          },
          "execution_count": 32
        }
      ]
    },
    {
      "cell_type": "markdown",
      "metadata": {
        "id": "ne_sN8SOR86N",
        "colab_type": "text"
      },
      "source": [
        "## Statewise Grouping of so2, no2, rspm, spm values\n",
        "\n",
        "Calculate median values of so2, no2, rspm, spm for each state and display in (a) as table (b) bar chart, with values sorted in ascending order. Separate section for each of the component. Use matplotlib()."
      ]
    },
    {
      "cell_type": "markdown",
      "metadata": {
        "id": "u7yQj8oBR86P",
        "colab_type": "text"
      },
      "source": [
        "### so2 status"
      ]
    },
    {
      "cell_type": "code",
      "metadata": {
        "id": "4-MzC2TZR86R",
        "colab_type": "code",
        "colab": {
          "base_uri": "https://localhost:8080/",
          "height": 657
        },
        "outputId": "1cab022a-3fbb-46a7-d684-6a97cd8be1e3"
      },
      "source": [
        "# ... Your code here\n",
        "state_so2=data.groupby('state')['so2'].median().sort_values()\n",
        "#barchart  \n",
        "plt.bar(state_so2.index, state_so2, color='red')\n",
        "plt.ylabel('SO2 Status')\n",
        "plt.xlabel('State')\n",
        "plt.ylim(None,30)\n",
        "plt.xticks(rotation=90)\n",
        "plt.show()\n"
      ],
      "execution_count": 34,
      "outputs": [
        {
          "output_type": "execute_result",
          "data": {
            "text/plain": [
              "state\n",
              "Nagaland                 2.000000\n",
              "Mizoram                  2.000000\n",
              "Meghalaya                2.000000\n",
              "Arunachal Pradesh        2.500000\n",
              "Himachal Pradesh         3.000000\n",
              "Kerala                   4.200000\n",
              "Telangana                5.000000\n",
              "Odisha                   5.000000\n",
              "Jammu & Kashmir          5.000000\n",
              "Andhra Pradesh           5.000000\n",
              "Goa                      6.000000\n",
              "Rajasthan                6.300000\n",
              "Delhi                    6.300000\n",
              "Assam                    6.500000\n",
              "Puducherry               7.266667\n",
              "Daman & Diu              7.600000\n",
              "Chandigarh               7.950000\n",
              "West Bengal              8.000000\n",
              "Dadra & Nagar Haveli     8.400000\n",
              "Karnataka               10.000000\n",
              "Uttar Pradesh           10.000000\n",
              "Tamil Nadu              10.000000\n",
              "Punjab                  10.300000\n",
              "Manipur                 10.829428\n",
              "Bihar                   10.829428\n",
              "Haryana                 10.829428\n",
              "Madhya Pradesh          10.829428\n",
              "Chhattisgarh            12.500000\n",
              "Maharashtra             13.000000\n",
              "Gujarat                 14.200000\n",
              "Jharkhand               18.700000\n",
              "Sikkim                  19.800000\n",
              "Uttarakhand             21.000000\n",
              "Uttaranchal             25.100000\n",
              "Name: so2, dtype: float64"
            ]
          },
          "metadata": {
            "tags": []
          },
          "execution_count": 34
        }
      ]
    },
    {
      "cell_type": "markdown",
      "metadata": {
        "id": "5cWVgBHMR86X",
        "colab_type": "text"
      },
      "source": [
        "### no2 status"
      ]
    },
    {
      "cell_type": "code",
      "metadata": {
        "id": "8TpA9HeTR86Z",
        "colab_type": "code",
        "colab": {
          "base_uri": "https://localhost:8080/",
          "height": 383
        },
        "outputId": "d5ceb39e-444f-43f5-d0b7-d085b0cd6190"
      },
      "source": [
        "# ... Your code here\n",
        "state_no2=data.groupby('state')['no2'].median().sort_values()\n",
        "#barchart  \n",
        "plt.bar(state_no2.index, state_no2, color='blue')\n",
        "plt.ylabel('NO2 Status')\n",
        "plt.xlabel('State')\n",
        "plt.ylim(None,60)\n",
        "plt.xticks(rotation=90)\n",
        "plt.show()"
      ],
      "execution_count": 18,
      "outputs": [
        {
          "output_type": "display_data",
          "data": {
            "image/png": "[encoded data removed]",
            "text/plain": [
              "<Figure size 432x288 with 1 Axes>"
            ]
          },
          "metadata": {
            "tags": []
          }
        }
      ]
    },
    {
      "cell_type": "markdown",
      "metadata": {
        "id": "d22wxOahR86f",
        "colab_type": "text"
      },
      "source": [
        "### rspm status"
      ]
    },
    {
      "cell_type": "code",
      "metadata": {
        "id": "o7psnw_7R86i",
        "colab_type": "code",
        "colab": {
          "base_uri": "https://localhost:8080/",
          "height": 379
        },
        "outputId": "fffdd756-65a7-4844-e381-615888f91e12"
      },
      "source": [
        "# ... Your code here\n",
        "state_rspm=data.groupby('state')['rspm'].median().sort_values()\n",
        "#barchart  \n",
        "plt.bar(state_rspm.index, state_rspm, color='purple')\n",
        "plt.ylabel('RSPM Status')\n",
        "plt.xlabel('State')\n",
        "plt.ylim(30,170)\n",
        "plt.xticks(rotation=90)\n",
        "plt.show()"
      ],
      "execution_count": 19,
      "outputs": [
        {
          "output_type": "display_data",
          "data": {
            "image/png": "[encoded data removed]",
            "text/plain": [
              "<Figure size 432x288 with 1 Axes>"
            ]
          },
          "metadata": {
            "tags": []
          }
        }
      ]
    },
    {
      "cell_type": "markdown",
      "metadata": {
        "id": "2iBLJVLdR86o",
        "colab_type": "text"
      },
      "source": [
        "### spm status"
      ]
    },
    {
      "cell_type": "code",
      "metadata": {
        "id": "nu41uFOWR86q",
        "colab_type": "code",
        "colab": {
          "base_uri": "https://localhost:8080/",
          "height": 383
        },
        "outputId": "5f100959-6b75-4cf8-ba91-cb9e8f6c0bc5"
      },
      "source": [
        "# ... Your code here\n",
        "state_spm=data.groupby('state')['spm'].median().sort_values()\n",
        "#barchart  \n",
        "plt.bar(state_spm.index, state_spm, color='green')\n",
        "plt.ylabel('SPM Status')\n",
        "plt.xlabel('State')\n",
        "plt.ylim(70,275)\n",
        "plt.xticks(rotation=90)\n",
        "plt.show()"
      ],
      "execution_count": 20,
      "outputs": [
        {
          "output_type": "display_data",
          "data": {
            "image/png": "[encoded data removed]",
            "text/plain": [
              "<Figure size 432x288 with 1 Axes>"
            ]
          },
          "metadata": {
            "tags": []
          }
        }
      ]
    },
    {
      "cell_type": "markdown",
      "metadata": {
        "id": "6gdZP1R1R86v",
        "colab_type": "text"
      },
      "source": [
        "### What is the yearly trend in a particular state, say ‘Andhra Pradesh’?\n",
        "\n",
        "Create a new dataframe containing the NO2, SO2, rspm, and spm data regarding state ‘Andhra Pradesh’ only and group it by ‘year’. Display top 5 records after."
      ]
    },
    {
      "cell_type": "code",
      "metadata": {
        "id": "qYSWz49zR86x",
        "colab_type": "code",
        "colab": {
          "base_uri": "https://localhost:8080/",
          "height": 230
        },
        "outputId": "87a4000e-239b-4ece-f434-2e8535844f9a"
      },
      "source": [
        "# ... Your code here\n",
        "data_new=data[data['state']=='Andhra Pradesh'].groupby('year')[['no2','so2','rspm','spm']].mean()\n",
        "data_new.head(5)"
      ],
      "execution_count": 21,
      "outputs": [
        {
          "output_type": "execute_result",
          "data": {
            "text/html": [
              "<div>\n",
              "<style scoped>\n",
              "    .dataframe tbody tr th:only-of-type {\n",
              "        vertical-align: middle;\n",
              "    }\n",
              "\n",
              "    .dataframe tbody tr th {\n",
              "        vertical-align: top;\n",
              "    }\n",
              "\n",
              "    .dataframe thead th {\n",
              "        text-align: right;\n",
              "    }\n",
              "</style>\n",
              "<table border=\"1\" class=\"dataframe\">\n",
              "  <thead>\n",
              "    <tr style=\"text-align: right;\">\n",
              "      <th></th>\n",
              "      <th>no2</th>\n",
              "      <th>so2</th>\n",
              "      <th>rspm</th>\n",
              "      <th>spm</th>\n",
              "    </tr>\n",
              "    <tr>\n",
              "      <th>year</th>\n",
              "      <th></th>\n",
              "      <th></th>\n",
              "      <th></th>\n",
              "      <th></th>\n",
              "    </tr>\n",
              "  </thead>\n",
              "  <tbody>\n",
              "    <tr>\n",
              "      <th>1990</th>\n",
              "      <td>15.296552</td>\n",
              "      <td>8.868966</td>\n",
              "      <td>108.833091</td>\n",
              "      <td>165.469596</td>\n",
              "    </tr>\n",
              "    <tr>\n",
              "      <th>1991</th>\n",
              "      <td>18.827778</td>\n",
              "      <td>10.811111</td>\n",
              "      <td>108.833091</td>\n",
              "      <td>154.466208</td>\n",
              "    </tr>\n",
              "    <tr>\n",
              "      <th>1992</th>\n",
              "      <td>36.012866</td>\n",
              "      <td>19.766194</td>\n",
              "      <td>108.833091</td>\n",
              "      <td>210.643678</td>\n",
              "    </tr>\n",
              "    <tr>\n",
              "      <th>1993</th>\n",
              "      <td>15.961111</td>\n",
              "      <td>8.544444</td>\n",
              "      <td>108.833091</td>\n",
              "      <td>220.783480</td>\n",
              "    </tr>\n",
              "    <tr>\n",
              "      <th>1994</th>\n",
              "      <td>18.273016</td>\n",
              "      <td>10.760317</td>\n",
              "      <td>108.833091</td>\n",
              "      <td>177.965950</td>\n",
              "    </tr>\n",
              "  </tbody>\n",
              "</table>\n",
              "</div>"
            ],
            "text/plain": [
              "            no2        so2        rspm         spm\n",
              "year                                              \n",
              "1990  15.296552   8.868966  108.833091  165.469596\n",
              "1991  18.827778  10.811111  108.833091  154.466208\n",
              "1992  36.012866  19.766194  108.833091  210.643678\n",
              "1993  15.961111   8.544444  108.833091  220.783480\n",
              "1994  18.273016  10.760317  108.833091  177.965950"
            ]
          },
          "metadata": {
            "tags": []
          },
          "execution_count": 21
        }
      ]
    },
    {
      "cell_type": "code",
      "metadata": {
        "id": "PDT5MM-ZR862",
        "colab_type": "code",
        "colab": {
          "base_uri": "https://localhost:8080/",
          "height": 281
        },
        "outputId": "069ef109-8d55-44c6-ae46-94129fa17757"
      },
      "source": [
        "# Display yearly trend graph (year vs. value) in pairs: (a) so2 and no2 (b) rspm and spm. \n",
        "# So, you will display TWO graphs altogether.\n",
        "\n",
        "# ... Your code here\n",
        "plt.subplot(2,1,1)\n",
        "plt.plot(data_new.groupby('year')['so2'].mean(),c='red',marker='o', markersize=3, linestyle='-',label='SO2 Yearly Level')\n",
        "plt.plot(data_new.groupby('year')['no2'].mean(), c='blue', marker='o', markersize=3,linestyle='-', label='NO2 Yearly Level')\n",
        "plt.legend()\n",
        "plt.title('SO2 and NO2 Yearly Trend')\n",
        "\n",
        "plt.subplot(2,1,2)\n",
        "plt.plot(data_new.groupby('year')['rspm'].mean(),c='purple',marker='o', markersize=3, linestyle='-',label='RSPM Yearly Level')\n",
        "plt.plot(data_new.groupby('year')['spm'].mean(), c='green',marker='o',markersize=3, linestyle='-', label='SPM Yearly Level')\n",
        "plt.legend()\n",
        "plt.title('RSPM and SPM Yearly Trend')\n",
        "plt.subplots_adjust(hspace=.5)\n"
      ],
      "execution_count": 39,
      "outputs": [
        {
          "output_type": "display_data",
          "data": {
            "image/png": "[encoded data removed]",
            "text/plain": [
              "<Figure size 432x288 with 2 Axes>"
            ]
          },
          "metadata": {
            "tags": []
          }
        }
      ]
    },
    {
      "cell_type": "markdown",
      "metadata": {
        "id": "OwcyGfRuR866",
        "colab_type": "text"
      },
      "source": [
        "Do you find anythumg alarming? Explain what you can conclude from this Exploratory Data Analysis for the State of Andhra Pradesh. Enter your answer here .....\n",
        "\n",
        "This analysis shows that from 1990 to 2015 in the state of Andhra Pradesh, nitrogen dioxide (no2) and sulfur dioxide both follow a similar trend of varying levels. However, no2 spikes around 2012, while so2 decreases then. No2 is higher in 2015 than 1990, while so2 is lower in 2015 than 1990. The second graph provides a couple interesting points. It shows that SPM drops in the early 2000s, and then quickly and drastically rises again from 100 ug/m3 to over 200 ug/m3. Around that same time period, RSPM levels begin to drop from its 12 year plateau of 120 ug/m3. SMP levels rise again and are higher in 2015 than 1990, while RSPM levels are lower in 2015 than 1990. This tells us that we should look into the year 2002 for why RSPM began to drop from previously staying the same level, and why RSPM dropped to its lowest level and then quickly rose again. In the state of Andhra Pradesh from 1990 to 2015, we can conclude that no2 and so2 levels follow similar trends of fluctuating levels, while RSPM drops and SPM wavers but overall increases. This information is helpful for us to further look into the reasons why drops or increases in levels happened in certain years as well as seeing the overall trend during this time period. \n",
        "\n"
      ]
    }
  ]
}