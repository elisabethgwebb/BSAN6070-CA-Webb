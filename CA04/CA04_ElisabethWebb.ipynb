{
  "nbformat": 4,
  "nbformat_minor": 0,
  "metadata": {
    "colab": {
      "name": "CA04_ElisabethWebb.ipynb",
      "provenance": [],
      "collapsed_sections": [],
      "toc_visible": true
    },
    "kernelspec": {
      "name": "python3",
      "display_name": "Python 3"
    }
  },
  "cells": [
    {
      "cell_type": "markdown",
      "metadata": {
        "id": "e0UdGxO1GAl3",
        "colab_type": "text"
      },
      "source": [
        "#Data Source and Contents"
      ]
    },
    {
      "cell_type": "markdown",
      "metadata": {
        "id": "GvTiDtDulRtP",
        "colab_type": "text"
      },
      "source": [
        "## Import libraries"
      ]
    },
    {
      "cell_type": "code",
      "metadata": {
        "id": "ZfEpb8riGkTL",
        "colab_type": "code",
        "colab": {}
      },
      "source": [
        "import pandas as pd\n",
        "import numpy as np\n",
        "import matplotlib.pyplot as plt\n",
        "from sklearn import tree\n",
        "from sklearn.tree import DecisionTreeClassifier\n",
        "from sklearn.model_selection import train_test_split\n",
        "from sklearn.ensemble import RandomForestClassifier\n",
        "from sklearn.ensemble import AdaBoostClassifier\n",
        "from sklearn.ensemble import GradientBoostingClassifier \n",
        "import xgboost as xgb \n",
        "from xgboost import XGBClassifier\n",
        "from sklearn.metrics import roc_auc_score"
      ],
      "execution_count": 0,
      "outputs": []
    },
    {
      "cell_type": "code",
      "metadata": {
        "id": "apLtFUgOGgt3",
        "colab_type": "code",
        "outputId": "544709da-0a4b-491d-f0c2-3e52b1700981",
        "colab": {
          "base_uri": "https://localhost:8080/",
          "height": 197
        }
      },
      "source": [
        "data = pd.read_csv('https://raw.githubusercontent.com/ArinB/MSBA-CA-03-Decision-Trees/master/census_data.csv')\n",
        "data.count()\n",
        "data.shape\n",
        "data.head()"
      ],
      "execution_count": 2,
      "outputs": [
        {
          "output_type": "execute_result",
          "data": {
            "text/html": [
              "<div>\n",
              "<style scoped>\n",
              "    .dataframe tbody tr th:only-of-type {\n",
              "        vertical-align: middle;\n",
              "    }\n",
              "\n",
              "    .dataframe tbody tr th {\n",
              "        vertical-align: top;\n",
              "    }\n",
              "\n",
              "    .dataframe thead th {\n",
              "        text-align: right;\n",
              "    }\n",
              "</style>\n",
              "<table border=\"1\" class=\"dataframe\">\n",
              "  <thead>\n",
              "    <tr style=\"text-align: right;\">\n",
              "      <th></th>\n",
              "      <th>hours_per_week_bin</th>\n",
              "      <th>occupation_bin</th>\n",
              "      <th>msr_bin</th>\n",
              "      <th>capital_gl_bin</th>\n",
              "      <th>race_sex_bin</th>\n",
              "      <th>education_num_bin</th>\n",
              "      <th>education_bin</th>\n",
              "      <th>workclass_bin</th>\n",
              "      <th>age_bin</th>\n",
              "      <th>flag</th>\n",
              "      <th>y</th>\n",
              "    </tr>\n",
              "  </thead>\n",
              "  <tbody>\n",
              "    <tr>\n",
              "      <th>0</th>\n",
              "      <td>b. 31-40</td>\n",
              "      <td>b. Mid - Low</td>\n",
              "      <td>b. Mid</td>\n",
              "      <td>c. &gt; 0</td>\n",
              "      <td>c. High</td>\n",
              "      <td>c. 13</td>\n",
              "      <td>c. Bachelors</td>\n",
              "      <td>b. income</td>\n",
              "      <td>d. 36-40 &amp; 56-60</td>\n",
              "      <td>train</td>\n",
              "      <td>0</td>\n",
              "    </tr>\n",
              "    <tr>\n",
              "      <th>1</th>\n",
              "      <td>a. 0-30</td>\n",
              "      <td>e. High</td>\n",
              "      <td>c. High</td>\n",
              "      <td>a. = 0</td>\n",
              "      <td>c. High</td>\n",
              "      <td>c. 13</td>\n",
              "      <td>c. Bachelors</td>\n",
              "      <td>b. income</td>\n",
              "      <td>e. 40-55</td>\n",
              "      <td>train</td>\n",
              "      <td>0</td>\n",
              "    </tr>\n",
              "    <tr>\n",
              "      <th>2</th>\n",
              "      <td>b. 31-40</td>\n",
              "      <td>a. Low</td>\n",
              "      <td>b. Mid</td>\n",
              "      <td>a. = 0</td>\n",
              "      <td>c. High</td>\n",
              "      <td>b. 9-12</td>\n",
              "      <td>b. Mid</td>\n",
              "      <td>b. income</td>\n",
              "      <td>d. 36-40 &amp; 56-60</td>\n",
              "      <td>train</td>\n",
              "      <td>0</td>\n",
              "    </tr>\n",
              "    <tr>\n",
              "      <th>3</th>\n",
              "      <td>b. 31-40</td>\n",
              "      <td>a. Low</td>\n",
              "      <td>c. High</td>\n",
              "      <td>a. = 0</td>\n",
              "      <td>b. Mid</td>\n",
              "      <td>a. 0-8</td>\n",
              "      <td>a. Low</td>\n",
              "      <td>b. income</td>\n",
              "      <td>e. 40-55</td>\n",
              "      <td>train</td>\n",
              "      <td>0</td>\n",
              "    </tr>\n",
              "    <tr>\n",
              "      <th>4</th>\n",
              "      <td>b. 31-40</td>\n",
              "      <td>e. High</td>\n",
              "      <td>c. High</td>\n",
              "      <td>a. = 0</td>\n",
              "      <td>a. Low</td>\n",
              "      <td>c. 13</td>\n",
              "      <td>c. Bachelors</td>\n",
              "      <td>b. income</td>\n",
              "      <td>b. 26-30 &amp; 71-100</td>\n",
              "      <td>train</td>\n",
              "      <td>0</td>\n",
              "    </tr>\n",
              "  </tbody>\n",
              "</table>\n",
              "</div>"
            ],
            "text/plain": [
              "  hours_per_week_bin occupation_bin  msr_bin  ...            age_bin   flag  y\n",
              "0           b. 31-40   b. Mid - Low   b. Mid  ...   d. 36-40 & 56-60  train  0\n",
              "1            a. 0-30        e. High  c. High  ...           e. 40-55  train  0\n",
              "2           b. 31-40         a. Low   b. Mid  ...   d. 36-40 & 56-60  train  0\n",
              "3           b. 31-40         a. Low  c. High  ...           e. 40-55  train  0\n",
              "4           b. 31-40        e. High  c. High  ...  b. 26-30 & 71-100  train  0\n",
              "\n",
              "[5 rows x 11 columns]"
            ]
          },
          "metadata": {
            "tags": []
          },
          "execution_count": 2
        }
      ]
    },
    {
      "cell_type": "markdown",
      "metadata": {
        "id": "ABPGvioPlVod",
        "colab_type": "text"
      },
      "source": [
        "## Data Cleaning \n",
        "Remove a,b,c,d for each column"
      ]
    },
    {
      "cell_type": "code",
      "metadata": {
        "id": "MY-5HMNk-kkv",
        "colab_type": "code",
        "outputId": "e283d985-b3bf-4b22-ba59-f0ccc2e63c60",
        "colab": {
          "base_uri": "https://localhost:8080/",
          "height": 217
        }
      },
      "source": [
        "data['capital_gl_bin'] = data['capital_gl_bin'].str.split('.', expand=True)[1]\n",
        "print(data['capital_gl_bin'])\n",
        "for column in data.drop(columns = ['flag','y','capital_gl_bin']):\n",
        "  data[column] = data[column].str.split('. ', expand=True)[1]"
      ],
      "execution_count": 3,
      "outputs": [
        {
          "output_type": "stream",
          "text": [
            "0         > 0\n",
            "1         = 0\n",
            "2         = 0\n",
            "3         = 0\n",
            "4         = 0\n",
            "         ... \n",
            "48837     = 0\n",
            "48838     = 0\n",
            "48839     = 0\n",
            "48840     > 0\n",
            "48841     = 0\n",
            "Name: capital_gl_bin, Length: 48842, dtype: object\n"
          ],
          "name": "stdout"
        }
      ]
    },
    {
      "cell_type": "code",
      "metadata": {
        "id": "iguyTOsp-wo0",
        "colab_type": "code",
        "outputId": "2c065a6f-e1a9-4dfa-e612-3af3578e4bf0",
        "colab": {
          "base_uri": "https://localhost:8080/",
          "height": 197
        }
      },
      "source": [
        "#Display cleaned dataset\n",
        "data.head()"
      ],
      "execution_count": 4,
      "outputs": [
        {
          "output_type": "execute_result",
          "data": {
            "text/html": [
              "<div>\n",
              "<style scoped>\n",
              "    .dataframe tbody tr th:only-of-type {\n",
              "        vertical-align: middle;\n",
              "    }\n",
              "\n",
              "    .dataframe tbody tr th {\n",
              "        vertical-align: top;\n",
              "    }\n",
              "\n",
              "    .dataframe thead th {\n",
              "        text-align: right;\n",
              "    }\n",
              "</style>\n",
              "<table border=\"1\" class=\"dataframe\">\n",
              "  <thead>\n",
              "    <tr style=\"text-align: right;\">\n",
              "      <th></th>\n",
              "      <th>hours_per_week_bin</th>\n",
              "      <th>occupation_bin</th>\n",
              "      <th>msr_bin</th>\n",
              "      <th>capital_gl_bin</th>\n",
              "      <th>race_sex_bin</th>\n",
              "      <th>education_num_bin</th>\n",
              "      <th>education_bin</th>\n",
              "      <th>workclass_bin</th>\n",
              "      <th>age_bin</th>\n",
              "      <th>flag</th>\n",
              "      <th>y</th>\n",
              "    </tr>\n",
              "  </thead>\n",
              "  <tbody>\n",
              "    <tr>\n",
              "      <th>0</th>\n",
              "      <td>31-40</td>\n",
              "      <td>Mi</td>\n",
              "      <td>Mid</td>\n",
              "      <td>&gt; 0</td>\n",
              "      <td>High</td>\n",
              "      <td>13</td>\n",
              "      <td>Bachelors</td>\n",
              "      <td>income</td>\n",
              "      <td>36-4</td>\n",
              "      <td>train</td>\n",
              "      <td>0</td>\n",
              "    </tr>\n",
              "    <tr>\n",
              "      <th>1</th>\n",
              "      <td>0-30</td>\n",
              "      <td>High</td>\n",
              "      <td>High</td>\n",
              "      <td>= 0</td>\n",
              "      <td>High</td>\n",
              "      <td>13</td>\n",
              "      <td>Bachelors</td>\n",
              "      <td>income</td>\n",
              "      <td>40-55</td>\n",
              "      <td>train</td>\n",
              "      <td>0</td>\n",
              "    </tr>\n",
              "    <tr>\n",
              "      <th>2</th>\n",
              "      <td>31-40</td>\n",
              "      <td>Low</td>\n",
              "      <td>Mid</td>\n",
              "      <td>= 0</td>\n",
              "      <td>High</td>\n",
              "      <td>9-12</td>\n",
              "      <td>Mid</td>\n",
              "      <td>income</td>\n",
              "      <td>36-4</td>\n",
              "      <td>train</td>\n",
              "      <td>0</td>\n",
              "    </tr>\n",
              "    <tr>\n",
              "      <th>3</th>\n",
              "      <td>31-40</td>\n",
              "      <td>Low</td>\n",
              "      <td>High</td>\n",
              "      <td>= 0</td>\n",
              "      <td>Mid</td>\n",
              "      <td>0-8</td>\n",
              "      <td>Low</td>\n",
              "      <td>income</td>\n",
              "      <td>40-55</td>\n",
              "      <td>train</td>\n",
              "      <td>0</td>\n",
              "    </tr>\n",
              "    <tr>\n",
              "      <th>4</th>\n",
              "      <td>31-40</td>\n",
              "      <td>High</td>\n",
              "      <td>High</td>\n",
              "      <td>= 0</td>\n",
              "      <td>Low</td>\n",
              "      <td>13</td>\n",
              "      <td>Bachelors</td>\n",
              "      <td>income</td>\n",
              "      <td>26-3</td>\n",
              "      <td>train</td>\n",
              "      <td>0</td>\n",
              "    </tr>\n",
              "  </tbody>\n",
              "</table>\n",
              "</div>"
            ],
            "text/plain": [
              "  hours_per_week_bin occupation_bin msr_bin  ... age_bin   flag  y\n",
              "0              31-40             Mi     Mid  ...    36-4  train  0\n",
              "1               0-30           High    High  ...   40-55  train  0\n",
              "2              31-40            Low     Mid  ...    36-4  train  0\n",
              "3              31-40            Low    High  ...   40-55  train  0\n",
              "4              31-40           High    High  ...    26-3  train  0\n",
              "\n",
              "[5 rows x 11 columns]"
            ]
          },
          "metadata": {
            "tags": []
          },
          "execution_count": 4
        }
      ]
    },
    {
      "cell_type": "markdown",
      "metadata": {
        "id": "1Xlx42hwGFAj",
        "colab_type": "text"
      },
      "source": [
        "# Finding Optimal Value of a key Hyper-parameter"
      ]
    },
    {
      "cell_type": "code",
      "metadata": {
        "id": "fJ2oe6sQIf49",
        "colab_type": "code",
        "colab": {}
      },
      "source": [
        "#Split the data into train and test and create dummies for catogorical variables because DecisionTreeClassifier() doesn't support cateorical variables\n",
        "\n",
        "train_data = data[data['flag'] == 'train'] \n",
        "\n",
        "test_data= data[data['flag']== 'test'] \n",
        "\n",
        "cat_feats = ['age_bin', 'capital_gl_bin', 'education_bin', 'hours_per_week_bin', 'msr_bin', 'occupation_bin', 'race_sex_bin']\n",
        "\n",
        "#create dummies for the the training data\n",
        "y_train = train_data['y']\n",
        "\n",
        "x_train = train_data[['age_bin', 'capital_gl_bin', 'education_bin','hours_per_week_bin', 'msr_bin', 'occupation_bin', 'race_sex_bin']]\n",
        "\n",
        "x_train = pd.get_dummies(x_train, columns=cat_feats, drop_first=True)\n",
        "\n",
        "#create dummies for the test data \n",
        "y_test = test_data['y']\n",
        "\n",
        "x_test = test_data[['age_bin', 'capital_gl_bin', 'education_bin','hours_per_week_bin', 'msr_bin', 'occupation_bin', 'race_sex_bin']]\n",
        "\n",
        "x_test = pd.get_dummies(x_test, columns=cat_feats, drop_first=True)"
      ],
      "execution_count": 0,
      "outputs": []
    },
    {
      "cell_type": "code",
      "metadata": {
        "id": "nm831po0G61_",
        "colab_type": "code",
        "outputId": "3b3ec072-55f8-4e3f-9e84-ddaa2781ff42",
        "colab": {
          "base_uri": "https://localhost:8080/",
          "height": 282
        }
      },
      "source": [
        "results = []\n",
        "max_depth_options = [2,4,6,8,10,12,14,16,18,20]\n",
        "for trees in max_depth_options:\n",
        "  model = DecisionTreeClassifier(max_depth = trees, random_state = 101)\n",
        "  model.fit(x_train, y_train)\n",
        "  y_pred = model.predict(x_test)\n",
        "  accuracy = np.mean(y_test==y_pred)\n",
        "  results.append(accuracy)\n",
        "\n",
        "plt.figure(figsize=(8,4))\n",
        "pd.Series(results, max_depth_options).plot(color='darkred', marker = 'o')"
      ],
      "execution_count": 6,
      "outputs": [
        {
          "output_type": "execute_result",
          "data": {
            "text/plain": [
              "<matplotlib.axes._subplots.AxesSubplot at 0x7feff1545860>"
            ]
          },
          "metadata": {
            "tags": []
          },
          "execution_count": 6
        },
        {
          "output_type": "display_data",
          "data": {
            "image/png": "[encoded data removed]",
            "text/plain": [
              "<Figure size 576x288 with 1 Axes>"
            ]
          },
          "metadata": {
            "tags": []
          }
        }
      ]
    },
    {
      "cell_type": "code",
      "metadata": {
        "id": "dRLOHoXvJn7c",
        "colab_type": "code",
        "colab": {}
      },
      "source": [
        "#The optimal number for the tree depth is 10. The decision tree doesn't improve past 10 levels. "
      ],
      "execution_count": 0,
      "outputs": []
    },
    {
      "cell_type": "markdown",
      "metadata": {
        "id": "1zMFemIGGK68",
        "colab_type": "text"
      },
      "source": [
        "# Building a Random Forest Model"
      ]
    },
    {
      "cell_type": "code",
      "metadata": {
        "id": "QOilUM5SLvAx",
        "colab_type": "code",
        "colab": {}
      },
      "source": [
        "#pip install -U scikit-learn"
      ],
      "execution_count": 0,
      "outputs": []
    },
    {
      "cell_type": "markdown",
      "metadata": {
        "id": "3S1Ldcoxlv6l",
        "colab_type": "text"
      },
      "source": [
        "## Random Forest"
      ]
    },
    {
      "cell_type": "code",
      "metadata": {
        "id": "lNlXvaI7KoOc",
        "colab_type": "code",
        "outputId": "26031eb7-f7d0-448c-b3e9-e4b1cb7a3600",
        "colab": {
          "base_uri": "https://localhost:8080/",
          "height": 282
        }
      },
      "source": [
        "accuracy_scores = []\n",
        "n_estimator = [50,100,150,200,250,300,350,400,450,500]\n",
        "for items in n_estimator:\n",
        "  rf_model = RandomForestClassifier(random_state = 101, n_estimators = items)\n",
        "  rf_model.fit(x_train, y_train)\n",
        "  y_pred = rf_model.predict(x_test)\n",
        "  accuracy = np.mean(y_test==y_pred)\n",
        "  accuracy_scores.append(accuracy)\n",
        "\n",
        "plt.figure(figsize=(8,4))\n",
        "pd.Series(accuracy_scores, n_estimator).plot(color='darkgreen', marker = 'o')"
      ],
      "execution_count": 7,
      "outputs": [
        {
          "output_type": "execute_result",
          "data": {
            "text/plain": [
              "<matplotlib.axes._subplots.AxesSubplot at 0x7fefef7b54e0>"
            ]
          },
          "metadata": {
            "tags": []
          },
          "execution_count": 7
        },
        {
          "output_type": "display_data",
          "data": {
            "image/png": "[encoded data removed]",
            "text/plain": [
              "<Figure size 576x288 with 1 Axes>"
            ]
          },
          "metadata": {
            "tags": []
          }
        }
      ]
    },
    {
      "cell_type": "code",
      "metadata": {
        "id": "KxVTubAEQpaf",
        "colab_type": "code",
        "colab": {}
      },
      "source": [
        "#The optimal accuracy of the tree is when the random forest uses 150 trees\n",
        "#The accuracy is the lowest when there are 200 trees in the forest"
      ],
      "execution_count": 0,
      "outputs": []
    },
    {
      "cell_type": "markdown",
      "metadata": {
        "id": "PCznt7u3GSPL",
        "colab_type": "text"
      },
      "source": [
        "# Building AdaBoost, Gradient Boost (classifier) and XGB Model"
      ]
    },
    {
      "cell_type": "markdown",
      "metadata": {
        "id": "LdnrITbDl47w",
        "colab_type": "text"
      },
      "source": [
        "## AdaBoost"
      ]
    },
    {
      "cell_type": "code",
      "metadata": {
        "id": "3KmLK5_0SG-4",
        "colab_type": "code",
        "outputId": "8c973169-0f3a-4144-9067-cf315929f41b",
        "colab": {
          "base_uri": "https://localhost:8080/",
          "height": 282
        }
      },
      "source": [
        "accuracy_scores = []\n",
        "n_estimator = [50,100,150,200,250,300,350,400,450,500]\n",
        "for items in n_estimator:\n",
        "  ab_model = AdaBoostClassifier(random_state =0, n_estimators = items)\n",
        "  ab_model.fit(x_train, y_train)\n",
        "  y_pred = ab_model.predict(x_test)\n",
        "  accuracy = np.mean(y_test==y_pred)\n",
        "  accuracy_scores.append(accuracy)\n",
        "\n",
        "plt.figure(figsize=(8,4))\n",
        "pd.Series(accuracy_scores, n_estimator).plot(color='orange', marker = 'o')"
      ],
      "execution_count": 8,
      "outputs": [
        {
          "output_type": "execute_result",
          "data": {
            "text/plain": [
              "<matplotlib.axes._subplots.AxesSubplot at 0x7fefef7e8438>"
            ]
          },
          "metadata": {
            "tags": []
          },
          "execution_count": 8
        },
        {
          "output_type": "display_data",
          "data": {
            "image/png": "[encoded data removed]",
            "text/plain": [
              "<Figure size 576x288 with 1 Axes>"
            ]
          },
          "metadata": {
            "tags": []
          }
        }
      ]
    },
    {
      "cell_type": "code",
      "metadata": {
        "id": "uHzBAH6utP7e",
        "colab_type": "code",
        "colab": {}
      },
      "source": [
        "#The AdaBoost model's optimal accuracy is achieved using 300 trees"
      ],
      "execution_count": 0,
      "outputs": []
    },
    {
      "cell_type": "markdown",
      "metadata": {
        "id": "BJwPl0kQk4Zq",
        "colab_type": "text"
      },
      "source": [
        "## Gradient Boost"
      ]
    },
    {
      "cell_type": "code",
      "metadata": {
        "id": "w-n65dbyx7-2",
        "colab_type": "code",
        "outputId": "4f63722f-7aa1-4e7b-b3c5-ff3460982848",
        "colab": {
          "base_uri": "https://localhost:8080/",
          "height": 282
        }
      },
      "source": [
        "accuracy_scores = []\n",
        "n_estimator = [50,100,150,200,250,300,350,400,450,500]\n",
        "for items in n_estimator:\n",
        "  gb_model = GradientBoostingClassifier(random_state =0, n_estimators = items, learning_rate= 0.1, max_depth = 2)\n",
        "  gb_model.fit(x_train, y_train)\n",
        "  y_pred = gb_model.predict(x_test)\n",
        "  accuracy = np.mean(y_test==y_pred)\n",
        "  accuracy_scores.append(accuracy)\n",
        "\n",
        "plt.figure(figsize=(8,4))\n",
        "pd.Series(accuracy_scores, n_estimator).plot(color='purple', marker = 'o')\n"
      ],
      "execution_count": 9,
      "outputs": [
        {
          "output_type": "execute_result",
          "data": {
            "text/plain": [
              "<matplotlib.axes._subplots.AxesSubplot at 0x7fefef81cbe0>"
            ]
          },
          "metadata": {
            "tags": []
          },
          "execution_count": 9
        },
        {
          "output_type": "display_data",
          "data": {
            "image/png": "[encoded data removed]",
            "text/plain": [
              "<Figure size 576x288 with 1 Axes>"
            ]
          },
          "metadata": {
            "tags": []
          }
        }
      ]
    },
    {
      "cell_type": "code",
      "metadata": {
        "id": "TSOiIfcGthL7",
        "colab_type": "code",
        "colab": {}
      },
      "source": [
        "#The gradient boost model's optimal accuracy is achieved using 500 trees"
      ],
      "execution_count": 0,
      "outputs": []
    },
    {
      "cell_type": "code",
      "metadata": {
        "id": "kyQu46ugzf0R",
        "colab_type": "code",
        "outputId": "70e723e7-09a5-435a-95b8-c14850b620a7",
        "colab": {
          "base_uri": "https://localhost:8080/",
          "height": 67
        }
      },
      "source": [
        "#pip install xgboost"
      ],
      "execution_count": 0,
      "outputs": [
        {
          "output_type": "stream",
          "text": [
            "Requirement already satisfied: xgboost in /usr/local/lib/python3.6/dist-packages (0.90)\n",
            "Requirement already satisfied: scipy in /usr/local/lib/python3.6/dist-packages (from xgboost) (1.4.1)\n",
            "Requirement already satisfied: numpy in /usr/local/lib/python3.6/dist-packages (from xgboost) (1.17.5)\n"
          ],
          "name": "stdout"
        }
      ]
    },
    {
      "cell_type": "markdown",
      "metadata": {
        "id": "NFeV0fhSkrYQ",
        "colab_type": "text"
      },
      "source": [
        "## XGB"
      ]
    },
    {
      "cell_type": "code",
      "metadata": {
        "id": "2fUyQ-Lmzqtw",
        "colab_type": "code",
        "outputId": "249e7b28-17d6-429b-9f50-9f16103e4c7e",
        "colab": {
          "base_uri": "https://localhost:8080/",
          "height": 282
        }
      },
      "source": [
        "data=data.replace(', ','<',regex=True).astype(str)\n",
        "\n",
        "\n",
        "accuracy_scores = []\n",
        "n_estimator = [50,100,150,200,250,300,350,400,450,500]\n",
        "for items in n_estimator:\n",
        "  xgb_model = XGBClassifier(n_estimators=items, eta=0.3, objective = 'multi:softprob', num_class=3, max_depth = 3)\n",
        "  xgb_model.fit(x_train, y_train)\n",
        "  y_pred = xgb_model.predict(x_test)\n",
        "  accuracy = np.mean(y_test==y_pred)\n",
        "  accuracy_scores.append(accuracy)\n",
        "\n",
        "\n",
        "plt.figure(figsize=(8,4))\n",
        "pd.Series(accuracy_scores, n_estimator).plot(color='green', marker = 'o')\n"
      ],
      "execution_count": 10,
      "outputs": [
        {
          "output_type": "execute_result",
          "data": {
            "text/plain": [
              "<matplotlib.axes._subplots.AxesSubplot at 0x7fefef05bba8>"
            ]
          },
          "metadata": {
            "tags": []
          },
          "execution_count": 10
        },
        {
          "output_type": "display_data",
          "data": {
            "image/png": "[encoded data removed]",
            "text/plain": [
              "<Figure size 576x288 with 1 Axes>"
            ]
          },
          "metadata": {
            "tags": []
          }
        }
      ]
    },
    {
      "cell_type": "code",
      "metadata": {
        "id": "bojs_Htft33z",
        "colab_type": "code",
        "colab": {}
      },
      "source": [
        "#The XBG model's optimal accuracy is achieved using 500 trees"
      ],
      "execution_count": 0,
      "outputs": []
    },
    {
      "cell_type": "markdown",
      "metadata": {
        "id": "jVoA-IeFGZ2A",
        "colab_type": "text"
      },
      "source": [
        "# Compare Preformance\n",
        "\n",
        "Compare preformance of each ensemble model using common hyper-paremeters n_estimators=150 and random_state=101. The random forest model preformed best using n_estimators of 150, so I will use this value in each of the models to compared their preformance in terms of accuracy and auc. "
      ]
    },
    {
      "cell_type": "code",
      "metadata": {
        "id": "NVrZ0psF3ua-",
        "colab_type": "code",
        "outputId": "f24ec217-5cb8-481f-b54f-292258cfdcb3",
        "colab": {
          "base_uri": "https://localhost:8080/",
          "height": 167
        }
      },
      "source": [
        "#Random Forest Model\n",
        "rf_model = RandomForestClassifier(random_state = 101, n_estimators = 150)\n",
        "rf_model.fit(x_train, y_train)\n",
        "y_pred = rf_model.predict(x_test)\n",
        "rf_accuracy = np.mean(y_test==y_pred)\n",
        "rf_auc=roc_auc_score(y_test, y_pred)\n",
        "\n",
        "#AdaBoost Model \n",
        "ab_model = AdaBoostClassifier(random_state =101, n_estimators = 150)\n",
        "ab_model.fit(x_train, y_train)\n",
        "y_pred = ab_model.predict(x_test)\n",
        "ab_accuracy = np.mean(y_test==y_pred)\n",
        "ab_auc=roc_auc_score(y_test, y_pred)\n",
        "\n",
        "\n",
        "#Gradient Boost \n",
        "gb_model = GradientBoostingClassifier(random_state =101, n_estimators = 150)\n",
        "gb_model.fit(x_train, y_train)\n",
        "y_pred = gb_model.predict(x_test)\n",
        "gb_accuracy = np.mean(y_test==y_pred)\n",
        "gb_auc=roc_auc_score(y_test, y_pred)\n",
        "\n",
        "\n",
        "#XGB Boost\n",
        "xgb_model = XGBClassifier(random_state=101, n_estimators=150)\n",
        "xgb_model.fit(x_train, y_train)\n",
        "y_pred = xgb_model.predict(x_test)\n",
        "xgb_accuracy = np.mean(y_test==y_pred)\n",
        "xgb_auc=roc_auc_score(y_test, y_pred)\n",
        "\n",
        "df = pd.DataFrame({'Random Forest': [rf_accuracy, rf_auc, 150, 101],\n",
        "                   'AdaBoost': [ab_accuracy, ab_auc, 150, 101],\n",
        "                   'Gradient Boost': [gb_accuracy, gb_auc, 150, 101],\n",
        "                   'XGB': [xgb_accuracy, xgb_auc, 150, 101]},\n",
        "                  index=['Accuracy', 'AUC', 'n_estimators', 'random_state'])\n",
        "df = round(df, 3)\n",
        "df.head()"
      ],
      "execution_count": 12,
      "outputs": [
        {
          "output_type": "execute_result",
          "data": {
            "text/html": [
              "<div>\n",
              "<style scoped>\n",
              "    .dataframe tbody tr th:only-of-type {\n",
              "        vertical-align: middle;\n",
              "    }\n",
              "\n",
              "    .dataframe tbody tr th {\n",
              "        vertical-align: top;\n",
              "    }\n",
              "\n",
              "    .dataframe thead th {\n",
              "        text-align: right;\n",
              "    }\n",
              "</style>\n",
              "<table border=\"1\" class=\"dataframe\">\n",
              "  <thead>\n",
              "    <tr style=\"text-align: right;\">\n",
              "      <th></th>\n",
              "      <th>Random Forest</th>\n",
              "      <th>AdaBoost</th>\n",
              "      <th>Gradient Boost</th>\n",
              "      <th>XGB</th>\n",
              "    </tr>\n",
              "  </thead>\n",
              "  <tbody>\n",
              "    <tr>\n",
              "      <th>Accuracy</th>\n",
              "      <td>0.842</td>\n",
              "      <td>0.845</td>\n",
              "      <td>0.846</td>\n",
              "      <td>0.847</td>\n",
              "    </tr>\n",
              "    <tr>\n",
              "      <th>AUC</th>\n",
              "      <td>0.743</td>\n",
              "      <td>0.743</td>\n",
              "      <td>0.747</td>\n",
              "      <td>0.748</td>\n",
              "    </tr>\n",
              "    <tr>\n",
              "      <th>n_estimators</th>\n",
              "      <td>150.000</td>\n",
              "      <td>150.000</td>\n",
              "      <td>150.000</td>\n",
              "      <td>150.000</td>\n",
              "    </tr>\n",
              "    <tr>\n",
              "      <th>random_state</th>\n",
              "      <td>101.000</td>\n",
              "      <td>101.000</td>\n",
              "      <td>101.000</td>\n",
              "      <td>101.000</td>\n",
              "    </tr>\n",
              "  </tbody>\n",
              "</table>\n",
              "</div>"
            ],
            "text/plain": [
              "              Random Forest  AdaBoost  Gradient Boost      XGB\n",
              "Accuracy              0.842     0.845           0.846    0.847\n",
              "AUC                   0.743     0.743           0.747    0.748\n",
              "n_estimators        150.000   150.000         150.000  150.000\n",
              "random_state        101.000   101.000         101.000  101.000"
            ]
          },
          "metadata": {
            "tags": []
          },
          "execution_count": 12
        }
      ]
    },
    {
      "cell_type": "markdown",
      "metadata": {
        "id": "2as2YkVPwCas",
        "colab_type": "text"
      },
      "source": [
        "The random forest model reach its optimal preformance using 150 trees, n_estimators=150. However, when using these same hyper-parameters (n_estimators=150 and random_state=101) in each of the other models, the XGB model preformed the best.  Therefore, I would use the XBG model for prediction because it has the highest accuracy and auc values. "
      ]
    }
  ]
}